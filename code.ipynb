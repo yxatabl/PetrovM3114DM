{
 "cells": [
  {
   "cell_type": "markdown",
   "metadata": {},
   "source": [
    "### Инициализация базы данных"
   ]
  },
  {
   "cell_type": "code",
   "execution_count": 94,
   "metadata": {},
   "outputs": [],
   "source": [
    "import sqlite3 as sql\n",
    "conn = sql.connect('db.db')\n",
    "cur = conn.cursor()"
   ]
  },
  {
   "cell_type": "markdown",
   "metadata": {},
   "source": [
    "### Функции"
   ]
  },
  {
   "cell_type": "code",
   "execution_count": 95,
   "metadata": {},
   "outputs": [],
   "source": [
    "def get_adjacency_list(only_one_component : bool) -> dict:\n",
    "    cur.execute(''' SELECT id FROM nodes ''')\n",
    "    if only_one_component:\n",
    "        ignore_list = [146669, 2562770, 2629691, 2635167, 2963597] #Великобритания, Ирландия и разные острова-государства\n",
    "        v = []\n",
    "        for el in cur.fetchall():\n",
    "            if el[0] not in ignore_list:\n",
    "                v.append(el)\n",
    "\n",
    "        res = []\n",
    "        for el in v:\n",
    "            if el[0] not in ignore_list:\n",
    "                cur.execute(''' SELECT target FROM edges WHERE source = ? ''',  (el[0], ))\n",
    "                res.append([e[0] for e in cur.fetchall()])\n",
    "    else:\n",
    "        v = [el[0] for el in cur.fetchall()]\n",
    "\n",
    "        res = []\n",
    "        for el in v:\n",
    "            cur.execute(''' SELECT target FROM edges WHERE source = ? ''',  (el, ))\n",
    "            res.append([e[0] for e in cur.fetchall()])\n",
    "    \n",
    "    return {v[i] : res[i] for i in range(len(v))}"
   ]
  },
  {
   "cell_type": "code",
   "execution_count": 96,
   "metadata": {},
   "outputs": [],
   "source": [
    "def get_center_and_k() -> {list, int}:\n",
    "    ls : dict = get_adjacency_list(True)\n",
    "    v = {el : 0 for el in ls.keys()}\n",
    "    k = 0\n",
    "    while len(ls) > 2:\n",
    "        k+=1\n",
    "        i = 0\n",
    "        while i < len(ls.keys()):\n",
    "            el = list(ls.keys())[i]\n",
    "            if len(ls[el]) == 1:\n",
    "                v[el] = k\n",
    "                ls.pop(el)\n",
    "                for a in ls.keys():\n",
    "                    mas = set(a)\n",
    "                    mas.discard(el)\n",
    "                    ls[a] = list(mas)\n",
    "            i+=1\n",
    "    return (ls.keys(), k)"
   ]
  },
  {
   "cell_type": "markdown",
   "metadata": {},
   "source": [
    "### 1) Изображение графа\n",
    "![](Untitled.svg)"
   ]
  },
  {
   "cell_type": "markdown",
   "metadata": {},
   "source": [
    "### 2) Данные"
   ]
  },
  {
   "cell_type": "code",
   "execution_count": 97,
   "metadata": {},
   "outputs": [
    {
     "name": "stdout",
     "output_type": "stream",
     "text": [
      "|V| = 47\n",
      "|E| = 86\n",
      "min deg = 0\n",
      "max deg = 9\n",
      "Центры: Russia \n",
      "Диаметр: 8\n",
      "Радиус: 4\n",
      "Цикломатическое число = 44\n"
     ]
    }
   ],
   "source": [
    "cur.execute(''' SELECT count(*) FROM nodes ''')\n",
    "v = cur.fetchone()[0]\n",
    "print(f\"|V| = {v}\")\n",
    "\n",
    "cur.execute(''' SELECT count(*) FROM edges ''')\n",
    "e = cur.fetchone()[0]//2\n",
    "print(f\"|E| = {e}\")\n",
    "\n",
    "cur.execute(''' SELECT\n",
    "\tlabel,\n",
    "\t(SELECT count(*) FROM edges WHERE edges.source = nodes.id) FROM nodes ''')\n",
    "degrees = cur.fetchall()\n",
    "min_deg = 1000\n",
    "max_deg = -1\n",
    "for el in degrees:\n",
    "    min_deg = min(min_deg, el[1])\n",
    "    max_deg = max(max_deg, el[1])\n",
    "print(f\"min deg = {min_deg}\")\n",
    "print(f\"max deg = {max_deg}\")\n",
    "\n",
    "centers, k = get_center_and_k()\n",
    "print(\"Центры:\", end=' ')\n",
    "for c in centers:\n",
    "    cur.execute(''' SELECT label FROM nodes WHERE id=? ''', c)\n",
    "    print(cur.fetchone()[0], end=' ')\n",
    "print()\n",
    "\n",
    "diametr = 2*k\n",
    "if len(centers) == 1:\n",
    "    diametr-=2\n",
    "else:\n",
    "    diametr-=1\n",
    "print(f\"Диаметр: {diametr}\")\n",
    "\n",
    "radius = abs((diametr+1)//2)\n",
    "print(f\"Радиус: {radius}\")\n",
    "\n",
    "components = 5 # {Великобритания + Ирландия}, разные острова-государства, {остальные страны}\n",
    "cycle_num = e - v + components\n",
    "print(f\"Цикломатическое число = {cycle_num}\")"
   ]
  },
  {
   "cell_type": "markdown",
   "metadata": {},
   "source": [
    "### 3) Раскраска графа и хроматическое число\n",
    "![](image.png)"
   ]
  },
  {
   "cell_type": "markdown",
   "metadata": {},
   "source": [
    "Хроматическое число - 4"
   ]
  },
  {
   "cell_type": "markdown",
   "metadata": {},
   "source": [
    "### 4) Компоненты связанности\n",
    "![](image2.png)"
   ]
  },
  {
   "cell_type": "markdown",
   "metadata": {},
   "source": [
    "### 5) Висячие вершины\n",
    "Великобритания, Ирландия, Португалия, Гибралтар, Ватикан, Сан Марино, Дания, Монако"
   ]
  },
  {
   "cell_type": "markdown",
   "metadata": {},
   "source": [
    "### 6) Двудольность\n",
    "Граф недвудольный, например Испания, Франция и Андорра"
   ]
  },
  {
   "cell_type": "markdown",
   "metadata": {},
   "source": [
    "### 7) Компоненты реберной двусвязности"
   ]
  },
  {
   "cell_type": "markdown",
   "metadata": {},
   "source": [
    "![](image5.png)"
   ]
  },
  {
   "cell_type": "markdown",
   "metadata": {},
   "source": [
    "### 8) Компоненты вершинной двусвязности, граф блоков и точек сочленения"
   ]
  },
  {
   "cell_type": "markdown",
   "metadata": {},
   "source": [
    "![](image8.png)\n",
    "![](image8a.png)"
   ]
  },
  {
   "cell_type": "markdown",
   "metadata": {},
   "source": [
    "### 9) Эйлеров путь"
   ]
  },
  {
   "cell_type": "markdown",
   "metadata": {},
   "source": [
    "Не существует, так как в графе присутствуют висячие вершины"
   ]
  },
  {
   "cell_type": "markdown",
   "metadata": {},
   "source": [
    "### 10) Гамильтонов путь"
   ]
  },
  {
   "cell_type": "markdown",
   "metadata": {},
   "source": [
    "Не существует, так как в графе присутствуют висячие вершины"
   ]
  },
  {
   "cell_type": "markdown",
   "metadata": {},
   "source": [
    "### 11) Минимальное остовное дерево"
   ]
  },
  {
   "cell_type": "markdown",
   "metadata": {},
   "source": [
    "![](image11.png)\n",
    "![](image11a.png)"
   ]
  },
  {
   "cell_type": "markdown",
   "metadata": {},
   "source": [
    "### 12) Максимальная клика"
   ]
  },
  {
   "cell_type": "markdown",
   "metadata": {},
   "source": [
    "- France - Belgium - Luxembourg - Germany\n",
    "- Serbia - Croatia - Montenegro - Bosnia and Herzegovina\n",
    "- Russia - Latvia - Lithuania - Belarus"
   ]
  },
  {
   "cell_type": "markdown",
   "metadata": {},
   "source": [
    "### 13) Код Прюфера"
   ]
  },
  {
   "cell_type": "markdown",
   "metadata": {},
   "source": [
    "Germany, Latvia, Spain, North Macedonia, Montenegro, Francec, Sweden, Spain, Italy, Andorra, France, Belarus, Finland, Russia, Belarus, Ukraine, Poland, Germany, Slovakia, Germany, Netherlands, Belgium, Luxembourg, France, Switzerland, Austria, Liechtencstein, Switzerland, Moldova, Romania, Bulgaria, North Macedonia, Albania, Montenegro, Bosnia and Herzegovina"
   ]
  }
 ],
 "metadata": {
  "kernelspec": {
   "display_name": "env",
   "language": "python",
   "name": "python3"
  },
  "language_info": {
   "codemirror_mode": {
    "name": "ipython",
    "version": 3
   },
   "file_extension": ".py",
   "mimetype": "text/x-python",
   "name": "python",
   "nbconvert_exporter": "python",
   "pygments_lexer": "ipython3",
   "version": "3.11.5"
  }
 },
 "nbformat": 4,
 "nbformat_minor": 2
}
